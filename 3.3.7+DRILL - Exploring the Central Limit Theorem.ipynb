{
 "cells": [
  {
   "cell_type": "markdown",
   "metadata": {},
   "source": [
    "Now that you have some code to create your own populations, sample them, and compare the samples to the populations, it's time to experiment. Using your own Jupyter notebook, or a copy of the notebook from the previous assignment, reproduce the pop1 and pop2 populations and samples, using numpy's binomial function. Specifically, create two binomially distributed populations with n equal to 10 and size equal to 10000. The p-value of pop1 should be 0.2 and the p-value of pop2 should be 0.5. Using a sample size of 100, calculate the means and standard deviations of your samples.\n",
    "\n"
   ]
  },
  {
   "cell_type": "markdown",
   "metadata": {},
   "source": [
    "For each of the following tasks, first write what you expect will happen, then code the changes and observe what does happen. Discuss the results with your mentor.\n",
    "\n",
    "1. Increase the size of your samples from 100 to 1000, then calculate the means and standard deviations for your new samples and create histograms for each. Repeat this again, decreasing the size of your samples to 20. What values change, and what remain the same?\n",
    "\n",
    "2. Change the probability value (p in the NumPy documentation) for pop1 to 0.3, then take new samples and compute the t-statistic and p-value. Then change the probability value p for group 1 to 0.4, and do it again. What changes, and why?\n",
    "\n",
    "3. Change the distribution of your populations from binomial to a distribution of your choice. Do the sample mean values still accurately represent the population values?"
   ]
  },
  {
   "cell_type": "code",
   "execution_count": 1,
   "metadata": {},
   "outputs": [],
   "source": [
    "import numpy as np\n",
    "import pandas as pd\n",
    "import matplotlib.pyplot as plt\n",
    "%matplotlib inline"
   ]
  },
  {
   "cell_type": "markdown",
   "metadata": {},
   "source": [
    "1."
   ]
  },
  {
   "cell_type": "code",
   "execution_count": 2,
   "metadata": {},
   "outputs": [],
   "source": [
    "# Generate the populations\n",
    "pop1 = np.random.binomial(n=10, p=0.2, size=10000)\n",
    "pop2 = np.random.binomial(n=10, p=0.5, size=10000)\n",
    "\n",
    "# Sampling\n",
    "sample1 = np.random.choice(pop1, size=1000, replace=True)\n",
    "sample2 = np.random.choice(pop2, size=1000, replace=True)"
   ]
  },
  {
   "cell_type": "code",
   "execution_count": 3,
   "metadata": {},
   "outputs": [
    {
     "name": "stdout",
     "output_type": "stream",
     "text": [
      "sample1 - mean: 1.978\n",
      "sample2 - mean: 5.008\n",
      "sample1 - std: 1.2212763815\n",
      "sample2 - std: 1.57351072446\n"
     ]
    }
   ],
   "source": [
    "# Calculate mean, std of the samples\n",
    "print('sample1 - mean:', sample1.mean())\n",
    "print('sample2 - mean:', sample2.mean())\n",
    "print('sample1 - std:', sample1.std())\n",
    "print('sample2 - std:', sample2.std())"
   ]
  },
  {
   "cell_type": "code",
   "execution_count": 4,
   "metadata": {},
   "outputs": [
    {
     "name": "stdout",
     "output_type": "stream",
     "text": [
      "difference between the means: 3.03\n",
      "standard error: 0.0629877130876\n",
      "T-value: 48.1046199564\n"
     ]
    }
   ],
   "source": [
    "# Compute the difference between the two samples' means\n",
    "diff = sample2.mean() - sample1.mean()\n",
    "print('difference between the means:', diff)\n",
    "\n",
    "# Compute the standard error\n",
    "size = np.array([len(sample1), len(sample2)])\n",
    "std = np.array([sample1.std(), sample2.std()])\n",
    "diff_se = (sum(std**2 / size))**0.5\n",
    "print('standard error:', diff_se)\n",
    "\n",
    "# T-value\n",
    "print('T-value:', diff/diff_se)"
   ]
  },
  {
   "cell_type": "code",
   "execution_count": 12,
   "metadata": {},
   "outputs": [
    {
     "data": {
      "image/png": "[encoded data removed]",
      "text/plain": [
       "<matplotlib.figure.Figure at 0x10fd8c8d0>"
      ]
     },
     "metadata": {},
     "output_type": "display_data"
    }
   ],
   "source": [
    "# Plot the histograms\n",
    "plt.hist(sample1, bins=range(10), alpha=0.5, label='Sample1')\n",
    "plt.hist(sample2, bins=range(10), alpha=0.5, label='Sample2')\n",
    "plt.legend()\n",
    "plt.show()"
   ]
  },
  {
   "cell_type": "code",
   "execution_count": 5,
   "metadata": {},
   "outputs": [
    {
     "name": "stdout",
     "output_type": "stream",
     "text": [
      "Ttest_indResult(statistic=48.080561630343198, pvalue=0.0)\n"
     ]
    }
   ],
   "source": [
    "# Compute the T-value and P-value with 'ttest_ind' function\n",
    "from scipy.stats import ttest_ind\n",
    "print(ttest_ind(sample2, sample1, equal_var=False))"
   ]
  },
  {
   "cell_type": "code",
   "execution_count": 7,
   "metadata": {},
   "outputs": [
    {
     "name": "stdout",
     "output_type": "stream",
     "text": [
      "sample1D - mean: 1.6\n",
      "sample2D - mean: 4.6\n",
      "sample1D - std: 1.2409673646\n",
      "sample2D - std: 1.35646599663\n"
     ]
    }
   ],
   "source": [
    "# Decreasing sampling size to 20\n",
    "# Sampling\n",
    "sample1D = np.random.choice(pop1, size=20, replace=True)\n",
    "sample2D = np.random.choice(pop2, size=20, replace=True)\n",
    "\n",
    "# Calculate mean, std of the samples\n",
    "print('sample1D - mean:', sample1D.mean())\n",
    "print('sample2D - mean:', sample2D.mean())\n",
    "print('sample1D - std:', sample1D.std())\n",
    "print('sample2D - std:', sample2D.std())"
   ]
  },
  {
   "cell_type": "code",
   "execution_count": 13,
   "metadata": {},
   "outputs": [
    {
     "data": {
      "image/png": "[encoded data removed]",
      "text/plain": [
       "<matplotlib.figure.Figure at 0x10ff78128>"
      ]
     },
     "metadata": {},
     "output_type": "display_data"
    }
   ],
   "source": [
    "# Plot the histograms\n",
    "plt.hist(sample1D, bins=range(10), alpha=0.5, label='Sample1D')\n",
    "plt.hist(sample2D, bins=range(10), alpha=0.5, label='Sample2D')\n",
    "plt.legend()\n",
    "plt.show()"
   ]
  },
  {
   "cell_type": "code",
   "execution_count": 8,
   "metadata": {},
   "outputs": [
    {
     "name": "stdout",
     "output_type": "stream",
     "text": [
      "Ttest_indResult(statistic=7.1127853880411251, pvalue=1.8081958544587097e-08)\n"
     ]
    }
   ],
   "source": [
    "# Compute the T-value and P-value with 'ttest_ind' function of the decreased samples\n",
    "print(ttest_ind(sample2D, sample1D, equal_var=False))"
   ]
  },
  {
   "cell_type": "markdown",
   "metadata": {},
   "source": [
    "The shapes of the histograms of the decreased samples are more rough. The means of the decreased samples change a little bit. However, the standard deviations of the decreased change a lot. Furthermore, the T-value decreases, but the P-value increases in the decreased."
   ]
  },
  {
   "cell_type": "markdown",
   "metadata": {},
   "source": [
    "2."
   ]
  },
  {
   "cell_type": "code",
   "execution_count": 15,
   "metadata": {
    "collapsed": true
   },
   "outputs": [],
   "source": [
    "# Change the probability of pop1 to 0.3\n",
    "pop1 = np.random.binomial(n=10, p=0.3, size=10000)\n",
    "# Sample from the new pop1\n",
    "sample1 = np.random.choice(pop1, size=1000, replace=True)"
   ]
  },
  {
   "cell_type": "code",
   "execution_count": 16,
   "metadata": {},
   "outputs": [
    {
     "data": {
      "image/png": "[encoded data removed]",
      "text/plain": [
       "<matplotlib.figure.Figure at 0x10fd13da0>"
      ]
     },
     "metadata": {},
     "output_type": "display_data"
    }
   ],
   "source": [
    "# Plot the histograms\n",
    "plt.hist(sample1, bins=range(10), alpha=0.5, label='Sample1')\n",
    "plt.hist(sample2, bins=range(10), alpha=0.5, label='Sample2')\n",
    "plt.legend()\n",
    "plt.show()"
   ]
  },
  {
   "cell_type": "code",
   "execution_count": 17,
   "metadata": {},
   "outputs": [
    {
     "name": "stdout",
     "output_type": "stream",
     "text": [
      "Ttest_indResult(statistic=29.161817396056644, pvalue=5.4891377432766934e-156)\n"
     ]
    }
   ],
   "source": [
    "# Compute the T-value and P-value with 'ttest_ind' function\n",
    "print(ttest_ind(sample2, sample1, equal_var=False))"
   ]
  },
  {
   "cell_type": "code",
   "execution_count": 18,
   "metadata": {
    "collapsed": true
   },
   "outputs": [],
   "source": [
    "# Change the probability of pop1 to 0.4\n",
    "pop1 = np.random.binomial(n=10, p=0.4, size=10000)\n",
    "# Sample from the new pop1\n",
    "sample1 = np.random.choice(pop1, size=1000, replace=True)"
   ]
  },
  {
   "cell_type": "code",
   "execution_count": 19,
   "metadata": {},
   "outputs": [
    {
     "data": {
      "image/png": "[encoded data removed]",
      "text/plain": [
       "<matplotlib.figure.Figure at 0x10fcac518>"
      ]
     },
     "metadata": {},
     "output_type": "display_data"
    }
   ],
   "source": [
    "# Plot the histograms\n",
    "plt.hist(sample1, bins=range(10), alpha=0.5, label='Sample1')\n",
    "plt.hist(sample2, bins=range(10), alpha=0.5, label='Sample2')\n",
    "plt.legend()\n",
    "plt.show()"
   ]
  },
  {
   "cell_type": "code",
   "execution_count": 20,
   "metadata": {},
   "outputs": [
    {
     "name": "stdout",
     "output_type": "stream",
     "text": [
      "Ttest_indResult(statistic=15.092355279749706, pvalue=8.1687673003971921e-49)\n"
     ]
    }
   ],
   "source": [
    "# Compute the T-value and P-value with 'ttest_ind' function\n",
    "print(ttest_ind(sample2, sample1, equal_var=False))"
   ]
  },
  {
   "cell_type": "markdown",
   "metadata": {},
   "source": [
    "As the probabilities of the populations become closer, the t-value decreases and the p-value is increased. It means the difference betewwen the two populations are smaller and smaller.\n"
   ]
  },
  {
   "cell_type": "markdown",
   "metadata": {},
   "source": [
    "3. "
   ]
  },
  {
   "cell_type": "code",
   "execution_count": 27,
   "metadata": {},
   "outputs": [
    {
     "name": "stdout",
     "output_type": "stream",
     "text": [
      "The mean of the lognormal distribution: 151.411303794\n"
     ]
    }
   ],
   "source": [
    "# Generate new populations from lognormal distribution\n",
    "pop_new = np.random.lognormal(mean=5, sigma=0.2, size=10000)\n",
    "print('The mean of the lognormal distribution:', np.exp(5 + 0.2**2/2))"
   ]
  },
  {
   "cell_type": "code",
   "execution_count": null,
   "metadata": {
    "collapsed": true
   },
   "outputs": [],
   "source": [
    "# Make sample with size 100\n",
    "sample_new = np.random.choice(pop_new, size = 100)\n",
    "# mean of the sample\n",
    "print('sample_new - mean:', sample_new.mean())"
   ]
  },
  {
   "cell_type": "code",
   "execution_count": 23,
   "metadata": {},
   "outputs": [
    {
     "name": "stdout",
     "output_type": "stream",
     "text": [
      "sample_new - mean: 152.522491222\n"
     ]
    }
   ],
   "source": [
    "# Make sample with size 1000\n",
    "sample_new = np.random.choice(pop_new, size = 1000)\n",
    "# mean of the sample\n",
    "print('sample_new - mean:', sample_new.mean())"
   ]
  },
  {
   "cell_type": "code",
   "execution_count": 24,
   "metadata": {},
   "outputs": [
    {
     "name": "stdout",
     "output_type": "stream",
     "text": [
      "sample_new - mean: 151.005083691\n"
     ]
    }
   ],
   "source": [
    "# Make sample with size 10000\n",
    "sample_new = np.random.choice(pop_new, size = 10000)\n",
    "# mean of the sample\n",
    "print('sample_new - mean:', sample_new.mean())"
   ]
  },
  {
   "cell_type": "markdown",
   "metadata": {},
   "source": [
    "As the sample size increases, mean of the sample becomes similar to the true mean of population according the Central limit theorem."
   ]
  },
  {
   "cell_type": "code",
   "execution_count": null,
   "metadata": {
    "collapsed": true
   },
   "outputs": [],
   "source": []
  }
 ],
 "metadata": {
  "kernelspec": {
   "display_name": "Python 3",
   "language": "python",
   "name": "python3"
  },
  "language_info": {
   "codemirror_mode": {
    "name": "ipython",
    "version": 3
   },
   "file_extension": ".py",
   "mimetype": "text/x-python",
   "name": "python",
   "nbconvert_exporter": "python",
   "pygments_lexer": "ipython3",
   "version": "3.6.2"
  }
 },
 "nbformat": 4,
 "nbformat_minor": 2
}
